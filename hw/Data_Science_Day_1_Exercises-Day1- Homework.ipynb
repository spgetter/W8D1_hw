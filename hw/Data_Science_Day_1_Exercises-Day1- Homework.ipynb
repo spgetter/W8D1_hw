{
 "cells": [
  {
   "cell_type": "markdown",
   "metadata": {},
   "source": [
    "# Exercises"
   ]
  },
  {
   "cell_type": "markdown",
   "metadata": {},
   "source": [
    "### #1 - Calculate the BMI (body mass index) on the two lists below using NDArrays..."
   ]
  },
  {
   "cell_type": "code",
   "execution_count": 2,
   "metadata": {},
   "outputs": [
    {
     "name": "stdout",
     "output_type": "stream",
     "text": [
      "[16.86620458 17.87755102 18.82562984 19.71450617 20.54794521 21.32943755\n",
      " 22.06222222]\n"
     ]
    }
   ],
   "source": [
    "import numpy as np\n",
    "# formula = weight / (height**2) * 730\n",
    "height = [69, 70, 71, 72, 73, 74, 75]\n",
    "weight = [110, 120, 130, 140, 150, 160, 170]\n",
    "\n",
    "# OUTPUT: [16.86620458 17.87755102 18.82562984 19.71450617 20.54794521 21.32943755\n",
    "# 22.06222222]\n",
    "\n",
    "np_height = np.array([69, 70, 71, 72, 73, 74, 75])\n",
    "np_weight = np.array([110, 120, 130, 140, 150, 160, 170])\n",
    "\n",
    "result_bmi = np_weight / (np_height**2) * 730\n",
    "print(result_bmi)\n"
   ]
  },
  {
   "cell_type": "markdown",
   "metadata": {},
   "source": [
    "### #2 - Create a function that will take in two parameters and will create a random matrix based off of those parameters. Extra: Have additional parameters taken in that allow the user to choose the shape and data type of the matrix."
   ]
  },
  {
   "cell_type": "code",
   "execution_count": 27,
   "metadata": {},
   "outputs": [
    {
     "name": "stdout",
     "output_type": "stream",
     "text": [
      "Enter the low number for your random numbers to be in the matrix2\n",
      "Enter the high number for your random numbers to be in the matrix112\n",
      "Enter the number of rows for your matrix6\n",
      "Enter the number of columns for your matrix6\n",
      "Enter the datatype you want to use for your matrix (example: \"int32\" or \"float64\")float64\n",
      "[[ 82.02354629  83.37034364  51.07384216  72.62256048  28.70264918\n",
      "   12.21833744]\n",
      " [ 60.09811582  79.92493412  73.2150271   28.10129515  17.40509418\n",
      "   98.72338061]\n",
      " [ 32.40665459  75.87935239  86.67984805  16.09625476  49.91194975\n",
      "   26.14284505]\n",
      " [ 42.32097121  56.4731783   29.1031054   73.49138109  84.32485123\n",
      "   71.1241318 ]\n",
      " [ 99.04986445 105.35376631  89.0602093   91.7168738   90.11908122\n",
      "   44.72119558]\n",
      " [ 83.83818206  97.90901964  35.18284487  24.52387245  92.8546142\n",
      "   90.20286449]] <class 'numpy.float64'>\n"
     ]
    }
   ],
   "source": [
    "\"\"\"\n",
    "Example Result\n",
    "array([[14.21633515,  7.98846653,  9.64140715],\n",
    "       [ 6.30982234,  9.96414331,  8.43153688],\n",
    "       [14.73102068, 11.76072894, 14.23356121]])\n",
    "\"\"\"\n",
    "def makeMatrix(low,high,shape,data_type = float): \n",
    "    matrix = np.random.uniform(low, high, shape)\n",
    "    return matrix.astype(data_type)\n",
    "\n",
    "low = input('Enter the low number for your random numbers to be in the matrix')\n",
    "high = input('Enter the high number for your random numbers to be in the matrix')\n",
    "rows = input('Enter the number of rows for your matrix')\n",
    "columns = input('Enter the number of columns for your matrix')\n",
    "dt = input('Enter the datatype you want to use for your matrix (example: \"int32\" or \"float64\")')\n",
    "low = int(low)\n",
    "high = int(high)\n",
    "rows = int(rows)\n",
    "columns = int(columns)\n",
    "shape = (rows,columns)\n",
    "\n",
    "M = makeMatrix(low,high,shape,dt)\n",
    "print(M, type(M[0][0]))\n"
   ]
  },
  {
   "cell_type": "markdown",
   "metadata": {},
   "source": [
    "### #3 - Extra: Open and load the data in the two text files that have the Boston Red Sox hitting data for the past seasons. Compare the difference in the two years by putting the data into an NDArray and running a differencial operation on it. The column to look for will be SLG.\n",
    "\n",
    "Your output should display which year (either 2017 or 2018) was a better year based on SLG"
   ]
  },
  {
   "cell_type": "code",
   "execution_count": 5,
   "metadata": {},
   "outputs": [],
   "source": [
    "import csv\n",
    "import numpy as np\n",
    "\n",
    "#Test to make sure you have the correct data\n",
    "def load_data(filename, d = ','):\n",
    "    data = np.genfromtxt(filename, delimiter = d, skip_header = 1, \n",
    "                        usecols = np.arange(0,24), invalid_raise = False,\n",
    "                        names = FIELDS, dtype = DATATYPES)\n",
    "    return data\n",
    "\n",
    "bs2017 = load_data('files/redsox_2017_hitting.txt')\n",
    "bs2018 = load_data('files/redsox_2018_hitting.txt')\n"
   ]
  },
  {
   "cell_type": "code",
   "execution_count": 11,
   "metadata": {},
   "outputs": [
    {
     "name": "stdout",
     "output_type": "stream",
     "text": [
      "\n",
      " Average SLG 2017: 0.393\n",
      "\n",
      " Average SLG 2018: 0.388\n",
      "Boston had greater SLG in 2017\n"
     ]
    }
   ],
   "source": [
    "\"\"\"\n",
    "Example Result - Not the actual result\n",
    "Boston 18 had more SLG in 2018\n",
    "[0.404 0.443 0.392 0.403 0.482 0.424 0.402 0.459 0.429 0.354 0.387 0.333\n",
    " 0.539 0.243 0.262 0.354 0.342 0.339 0.328 0.306 0.222 0.2   1.   ]\n",
    "\"\"\"\n",
    "\n",
    "FIELDS = ['Rk', 'Pos', 'Name', 'Age', 'G', 'PA', 'AB', 'R', 'H', '2B', '3B', 'HR', 'RBI', 'SB', 'CS', \n",
    "          'BB', 'SO', 'BA', 'OBP', 'SLG', 'OPS', 'OPS+', 'TB', 'GDP', 'HBP', 'SH', 'SF', 'IBB']\n",
    "\n",
    "DATATYPES = [('rk', 'i'), ('pos', '|S25'), ('name', '|S25'), ('age', 'i'), ('g', 'i'), ('pa', 'i'), ('ab', 'i'),\n",
    "                ('r', 'i'), ('h', 'i'), ('2b', 'i'), ('3b', 'i'), ('hr', 'i'), ('rbi', 'i'), ('sb', 'i'), ('cs', 'i'),\n",
    "                ('bb', 'i'), ('so', 'i'), ('ba', 'f'), ('obp', 'f'), ('slg', 'f'), ('ops', 'f'), ('opsp', 'i'),\n",
    "                ('tb', 'i'), ('gdp', 'i'), ('hbp', 'i'), ('sh', 'i'), ('sf', 'i'), ('ibb', 'i')]\n",
    "\n",
    "#Use this function to actually open the data inside of a NDArray\n",
    "\n",
    "# Find Total SLG 2017\n",
    "average_slg17 = sum(bs2017['SLG'])/np.count_nonzero(bs2017['SLG'])\n",
    "print(f'\\n Average SLG 2017: {average_slg17:.3f}')\n",
    "\n",
    "# Find Total SLG 2018\n",
    "average_slg18 = sum(bs2018['SLG'])/np.count_nonzero(bs2018['SLG'])\n",
    "print(f'\\n Average SLG 2018: {average_slg18:.3f}')\n",
    "\n",
    "if total_slg17 > total_slg18:\n",
    "    print('Boston had greater SLG in 2017')\n",
    "else:\n",
    "    print('Boston had greater SLG in 2018')\n"
   ]
  }
 ],
 "metadata": {
  "kernelspec": {
   "display_name": "Python 3",
   "language": "python",
   "name": "python3"
  },
  "language_info": {
   "codemirror_mode": {
    "name": "ipython",
    "version": 3
   },
   "file_extension": ".py",
   "mimetype": "text/x-python",
   "name": "python",
   "nbconvert_exporter": "python",
   "pygments_lexer": "ipython3",
   "version": "3.8.8"
  }
 },
 "nbformat": 4,
 "nbformat_minor": 2
}
